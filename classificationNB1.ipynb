{
 "metadata": {
  "language_info": {
   "codemirror_mode": {
    "name": "ipython",
    "version": 3
   },
   "file_extension": ".py",
   "mimetype": "text/x-python",
   "name": "python",
   "nbconvert_exporter": "python",
   "pygments_lexer": "ipython3",
   "version": "3.8.5"
  },
  "orig_nbformat": 2,
  "kernelspec": {
   "name": "python3",
   "display_name": "Python 3.8.5 64-bit",
   "metadata": {
    "interpreter": {
     "hash": "5c0372ed38b372118c24adb00d45654d76c8d10261533c5724e3f5fc1d75489a"
    }
   }
  }
 },
 "nbformat": 4,
 "nbformat_minor": 2,
 "cells": [
  {
   "cell_type": "code",
   "execution_count": 6,
   "metadata": {},
   "outputs": [],
   "source": [
    "import pandas as pd"
   ]
  },
  {
   "cell_type": "code",
   "execution_count": 248,
   "metadata": {},
   "outputs": [],
   "source": [
    "def prob_classA(total_distinct, train_set, column, distinct):\n",
    "    info = []\n",
    "    for i in range(1,len(column)-3):\n",
    "        distinct_value = pd.value_counts(train_set[column[i]].values)\n",
    "        start,j = 0,i-1\n",
    "        arraycolumn = []\n",
    "        while start<len(distinct[j]):\n",
    "            get_idx = distinct[j][start]\n",
    "            prob = distinct_value[get_idx]/total_distinct[0]\n",
    "            arraycolumn.append(prob)\n",
    "            start = start + 1\n",
    "        info.append(arraycolumn)\n",
    "    return info\n",
    "\n",
    "def prob_classB(total_distinct, train_set, column, distinct):\n",
    "    info = []\n",
    "    for i in range(1,len(column)-3):\n",
    "        distinct_value = pd.value_counts(train_set[column[i]].values)\n",
    "        start,j = 0,i-1\n",
    "        arraycolumn = []\n",
    "        while start<len(distinct[j]):\n",
    "            get_idx = distinct[j][start]\n",
    "            prob = distinct_value[get_idx]/total_distinct[1]\n",
    "            arraycolumn.append(prob)\n",
    "            start = start + 1\n",
    "        info.append(arraycolumn)\n",
    "    return info  "
   ]
  },
  {
   "cell_type": "code",
   "execution_count": 249,
   "metadata": {},
   "outputs": [],
   "source": [
    "def trainData(idxVal,df,idx,prev_idx):\n",
    "    \n",
    "    if idxVal == 1:\n",
    "        train_set = df[idx:]\n",
    "    else:\n",
    "        if idxVal != 7:\n",
    "            train_set = pd.concat([df[:prev_idx],df[idx:]])\n",
    "        else:\n",
    "            train_set = df[:idx] \n",
    "    return train_set\n",
    "\n",
    "def testData(idxVal,df,idx,prev_idx):\n",
    "    if idxVal == 1:\n",
    "        test_set = df[:idx]\n",
    "    else:\n",
    "        if idxVal != 7:\n",
    "            test_set = df[prev_idx:idx]\n",
    "        else:\n",
    "            test_set = df[idx:]\n",
    "    return test_set"
   ]
  },
  {
   "cell_type": "code",
   "execution_count": 250,
   "metadata": {},
   "outputs": [],
   "source": [
    "def is_found(distinct_train,idx,k):\n",
    "    set_DistinctIdx = distinct_train[idx]\n",
    "    i,index = 0,0\n",
    "    found = True\n",
    "    while i < len(set_DistinctIdx) and found:\n",
    "        if set_DistinctIdx[i] == k:\n",
    "            index = set_DistinctIdx[i]\n",
    "            found = False\n",
    "        else:   \n",
    "            i = i + 1\n",
    "    if index == k:\n",
    "        return True\n",
    "    else:\n",
    "        return False\n",
    "\n",
    "def search_prob(distinct_train,idx,k):\n",
    "    set_DistinctIdx = distinct_train[idx]\n",
    "    i = 0\n",
    "    found = True\n",
    "    while i < len(set_DistinctIdx) and found:\n",
    "        if set_DistinctIdx[i] != k:\n",
    "            i = i + 1\n",
    "        else:   \n",
    "            found = False\n",
    "    return i\n",
    "\n",
    "def calculate_TestS(test_set,distinct_train,class_A,column):\n",
    "    info= []\n",
    "    for idx in range(1,len(column)-3):\n",
    "        d = test_set.iloc[:,idx]\n",
    "        prob_Arr= []\n",
    "        i = idx-1\n",
    "        for k,value in enumerate(d):\n",
    "            if is_found(distinct_train,i,value):\n",
    "                prob = search_prob(distinct_train,i,value)\n",
    "                tmp = class_A[i][prob]\n",
    "            else:\n",
    "                tmp = 0\n",
    "            prob_Arr.append(tmp)\n",
    "        info.append(prob_Arr)\n",
    "    return info\n",
    "\n",
    "    def calculate_TestS(test_set,distinct_train,class_B,column):\n",
    "        info= []\n",
    "        for idx in range(1,len(column)-3):\n",
    "            d = test_set.iloc[:,idx]\n",
    "            prob_Arr= []\n",
    "            i = idx-1\n",
    "            for k,value in enumerate(d):\n",
    "                if is_found(distinct_train,i,value):\n",
    "                    prob = search_prob(distinct_train,i,value)\n",
    "                    tmp = class_B[i][prob]\n",
    "                else:\n",
    "                    tmp = 0\n",
    "                prob_Arr.append(tmp)\n",
    "            info.append(prob_Arr)\n",
    "        return info"
   ]
  },
  {
   "cell_type": "code",
   "execution_count": 251,
   "metadata": {},
   "outputs": [],
   "source": [
    "def get_class(a,b,distinct,total_class,test_set,idx):\n",
    "    precision, Recall, TN ,TP, FN, FP, d = 0,0,0,0,0,0,0\n",
    "    idx_v = idx - len(test_set)\n",
    "    for i in range(len(a)):\n",
    "        if a[i]>b[i]:\n",
    "            d = test_set.iloc[:,10]\n",
    "            if d[idx_v]==(distinct[9][0]):\n",
    "                TN = TN + 1\n",
    "            else:\n",
    "                FN = FN + 1\n",
    "        else:\n",
    "            d = test_set.iloc[:,10]\n",
    "            if d[idx_v]==(distinct[9][1]):\n",
    "                TP = TP + 1\n",
    "            else:\n",
    "                FP = FP + 1\n",
    "        idx_v = idx_v + 1\n",
    "    print(\"True Positive :\",TP,\" False Positive: \",FP,\" True Negative: \",TN,\" False Negative: \",FN)\n",
    "    accuracy = (TP/len(a) * 100)\n",
    "    if (TP+FP) == 0 :\n",
    "        precision = 0\n",
    "    elif (TP+FN)==0:\n",
    "        Recall = 0\n",
    "    else:\n",
    "        precision = (TP/(TP+FP)*100)\n",
    "        Recall = (TP/(TP+FN)*100)\n",
    "    print(\"precision: \",round(precision,2),\"% Recall: \",round(Recall,2),\"%\")\n",
    "    print(\"The accuracy is \", round(accuracy,2),'%')"
   ]
  },
  {
   "cell_type": "code",
   "execution_count": 252,
   "metadata": {},
   "outputs": [],
   "source": [
    "def main():\n",
    " \n",
    "    df = pd.read_csv('csv_result-labor1.csv')\n",
    "    prev_idx = 0\n",
    "    testset = int(len(df)/5)\n",
    "    for i in range(1,6):\n",
    "        idx = testset * i\n",
    "        train_set = trainData(i,df,idx,prev_idx)\n",
    "        test_set = testData(i,df,idx,prev_idx)\n",
    "\n",
    "        print(\"============== \",i,\" FOLD ===================\")\n",
    "\n",
    "        column = [col for col in df.columns]\n",
    "\n",
    "        distinct_train = [train_set[column[idx]].unique() for idx in range(1,len(column))]\n",
    "        distinct_test = [test_set[column[idx]].unique() for idx in range(1,len(column))]\n",
    "\n",
    "        total_distinct = pd.value_counts(train_set['class'].values)\n",
    "        total_class = pd.value_counts(test_set['class'].values)\n",
    "\n",
    "        prob_disA = total_distinct[0]/len(train_set)\n",
    "        prob_disB = total_distinct[1]/len(train_set)\n",
    "\n",
    "        class_A = prob_classA(total_distinct,train_set,column,distinct_train)\n",
    "        class_B = prob_classB(total_distinct,train_set,column,distinct_train)\n",
    "\n",
    "        resultA = calculate_TestS(test_set,distinct_train,class_A,column)\n",
    "        resultB = calculate_TestS(test_set,distinct_train,class_B,column)\n",
    "\n",
    "        a = mul_classA(test_set,resultA,prob_disA)\n",
    "        b = mul_classB(test_set,resultB,prob_disB)\n",
    "\n",
    "        get_class(a,b,distinct_train,total_class,test_set,idx)\n",
    "        prev_idx = idx\n"
   ]
  },
  {
   "cell_type": "code",
   "execution_count": 253,
   "metadata": {},
   "outputs": [
    {
     "output_type": "stream",
     "name": "stdout",
     "text": [
      "==============  1  FOLD ===================\nTrue Positive : 11  False Positive:  0  True Negative:  0  False Negative:  0\nprecision:  100.0 % Recall:  100.0 %\nThe accuracy is  100.0 %\n==============  2  FOLD ===================\nTrue Positive : 4  False Positive:  7  True Negative:  0  False Negative:  0\nprecision:  36.36 % Recall:  100.0 %\nThe accuracy is  36.36 %\n==============  3  FOLD ===================\nTrue Positive : 6  False Positive:  5  True Negative:  0  False Negative:  0\nprecision:  54.55 % Recall:  100.0 %\nThe accuracy is  54.55 %\n==============  4  FOLD ===================\nTrue Positive : 10  False Positive:  1  True Negative:  0  False Negative:  0\nprecision:  90.91 % Recall:  100.0 %\nThe accuracy is  90.91 %\n==============  5  FOLD ===================\nTrue Positive : 0  False Positive:  11  True Negative:  0  False Negative:  0\nprecision:  0 % Recall:  0 %\nThe accuracy is  0.0 %\n"
     ]
    }
   ],
   "source": [
    "main()"
   ]
  },
  {
   "cell_type": "code",
   "execution_count": null,
   "metadata": {},
   "outputs": [],
   "source": []
  }
 ]
}